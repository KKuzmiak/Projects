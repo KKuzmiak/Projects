{
 "cells": [
  {
   "cell_type": "markdown",
   "metadata": {},
   "source": [
    "### Papermill execution\n",
    "The goal is to generate a sales report at the end of each month for the current month. \n",
    "The user adds a new file with data to a monthly data folder and then runs this Jupyter notebook. The code recognises the lates file and uses the data from this file to generate report for the current month, basing on the code written in the Template-report notebook. Thanks to this, it is easier and faster to generate and save mothly reports.\n"
   ]
  },
  {
   "cell_type": "code",
   "execution_count": null,
   "metadata": {},
   "outputs": [],
   "source": [
    "# Import libraries\n",
    "import papermill as pm\n",
    "import glob\n",
    "import os\n",
    "\n",
    "# Searching for the latest file\n",
    "list_of_files = glob.glob('/home/kinga/python/Papermill-report/*.xlsx') # * means all if need specific format then *.csv\n",
    "latest_file = max(list_of_files, key=os.path.getctime)\n",
    "latest_file=latest_file.split('.')[0].split('/')[-1]\n",
    "latest_file\n",
    "\n",
    "# Executing Papermill\n",
    "pm.execute_notebook(\n",
    "   '/home/kinga/python/Papermill-report/Template_report.ipynb', # the name of the file what we will use as a base to run our notebook- the one with parameters\n",
    "   'Report_'+f'{latest_file}.ipynb',# the name of the new notebook that we will generate with the new arguments.\n",
    "   parameters={'filename':f'{latest_file}.xlsx'}, nest_asyncio=True # a dictionary of the variables that we want to insert into\n",
    "    #our template, in this case, the filename variable, that will now point to our August sales report\n",
    ")"
   ]
  },
  {
   "cell_type": "code",
   "execution_count": null,
   "metadata": {},
   "outputs": [],
   "source": []
  },
  {
   "cell_type": "code",
   "execution_count": null,
   "metadata": {},
   "outputs": [],
   "source": []
  }
 ],
 "metadata": {
  "hide_input": false,
  "kernelspec": {
   "display_name": "Python 3",
   "language": "python",
   "name": "python3"
  },
  "language_info": {
   "codemirror_mode": {
    "name": "ipython",
    "version": 3
   },
   "file_extension": ".py",
   "mimetype": "text/x-python",
   "name": "python",
   "nbconvert_exporter": "python",
   "pygments_lexer": "ipython3",
   "version": "3.7.4"
  }
 },
 "nbformat": 4,
 "nbformat_minor": 2
}
