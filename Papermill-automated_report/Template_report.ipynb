{
 "cells": [
  {
   "cell_type": "markdown",
   "metadata": {},
   "source": [
    "#### Monthly sales report\n",
    "The sales report is generated at the end of each month for the current month. \n",
    "In this notebook I create a simple sales report and save results as excel and html files.\n",
    "I have to parameterize this notebook so that papermill allows me to execute the same jupyter notebook with different variables (different sales data for each month)."
   ]
  },
  {
   "cell_type": "code",
   "execution_count": 1,
   "metadata": {
    "execution": {
     "iopub.execute_input": "2020-08-20T19:52:50.394410Z",
     "iopub.status.busy": "2020-08-20T19:52:50.393463Z",
     "iopub.status.idle": "2020-08-20T19:52:52.971200Z",
     "shell.execute_reply": "2020-08-20T19:52:52.970327Z"
    },
    "papermill": {
     "duration": 2.610422,
     "end_time": "2020-08-20T19:52:52.971349",
     "exception": false,
     "start_time": "2020-08-20T19:52:50.360927",
     "status": "completed"
    },
    "tags": []
   },
   "outputs": [],
   "source": [
    "# Import libraries\n",
    "import pandas as pd\n",
    "import random\n",
    "import datetime\n",
    "import numpy as np\n",
    "import dash\n",
    "import dash_core_components as dcc\n",
    "import dash_html_components as html\n",
    "from dash.dependencies import Input, Output\n",
    "import plotly.graph_objs as go\n",
    "import plotly.offline as pyo\n",
    "import calendar"
   ]
  },
  {
   "cell_type": "code",
   "execution_count": 2,
   "metadata": {
    "execution": {
     "iopub.execute_input": "2020-08-20T19:52:53.020256Z",
     "iopub.status.busy": "2020-08-20T19:52:53.018600Z",
     "iopub.status.idle": "2020-08-20T19:52:53.021922Z",
     "shell.execute_reply": "2020-08-20T19:52:53.022879Z"
    },
    "papermill": {
     "duration": 0.033084,
     "end_time": "2020-08-20T19:52:53.023074",
     "exception": false,
     "start_time": "2020-08-20T19:52:52.989990",
     "status": "completed"
    },
    "tags": [
     "parameters"
    ]
   },
   "outputs": [],
   "source": [
    "filename='/home/kinga/python/Papermill-report/Data_August.xlsx'"
   ]
  },
  {
   "cell_type": "code",
   "execution_count": 3,
   "metadata": {
    "execution": {
     "iopub.execute_input": "2020-08-20T19:52:53.072010Z",
     "iopub.status.busy": "2020-08-20T19:52:53.070733Z",
     "iopub.status.idle": "2020-08-20T19:52:53.073685Z",
     "shell.execute_reply": "2020-08-20T19:52:53.074334Z"
    },
    "papermill": {
     "duration": 0.032339,
     "end_time": "2020-08-20T19:52:53.074511",
     "exception": false,
     "start_time": "2020-08-20T19:52:53.042172",
     "status": "completed"
    },
    "tags": [
     "injected-parameters"
    ]
   },
   "outputs": [],
   "source": [
    "# Parameters\n",
    "# This template report uses sales data for August. Thanks to papermill I will execute this notebook \n",
    "# every month with different data for each subsequent month (for example at the end of September\n",
    "# with data for September etc)\n",
    "filename = \"Data_August.xlsx\"\n"
   ]
  },
  {
   "cell_type": "code",
   "execution_count": 4,
   "metadata": {
    "execution": {
     "iopub.execute_input": "2020-08-20T19:52:53.125485Z",
     "iopub.status.busy": "2020-08-20T19:52:53.123744Z",
     "iopub.status.idle": "2020-08-20T19:52:53.422502Z",
     "shell.execute_reply": "2020-08-20T19:52:53.421645Z"
    },
    "papermill": {
     "duration": 0.32872,
     "end_time": "2020-08-20T19:52:53.422634",
     "exception": false,
     "start_time": "2020-08-20T19:52:53.093914",
     "status": "completed"
    },
    "tags": []
   },
   "outputs": [],
   "source": [
    "df=pd.read_excel(filename)"
   ]
  },
  {
   "cell_type": "markdown",
   "metadata": {
    "papermill": {
     "duration": 0.017848,
     "end_time": "2020-08-20T19:52:53.458055",
     "exception": false,
     "start_time": "2020-08-20T19:52:53.440207",
     "status": "completed"
    },
    "tags": []
   },
   "source": [
    "#### Report  August"
   ]
  },
  {
   "cell_type": "code",
   "execution_count": 5,
   "metadata": {
    "execution": {
     "iopub.execute_input": "2020-08-20T19:52:53.524339Z",
     "iopub.status.busy": "2020-08-20T19:52:53.523227Z",
     "iopub.status.idle": "2020-08-20T19:52:53.530852Z",
     "shell.execute_reply": "2020-08-20T19:52:53.528989Z"
    },
    "papermill": {
     "duration": 0.038901,
     "end_time": "2020-08-20T19:52:53.531301",
     "exception": false,
     "start_time": "2020-08-20T19:52:53.492400",
     "status": "completed"
    },
    "tags": []
   },
   "outputs": [
    {
     "name": "stdout",
     "output_type": "stream",
     "text": [
      "current month is: August , current year is: 2020\n"
     ]
    }
   ],
   "source": [
    "# report is generated for the current month, so I have to find out what the cureent month is\n",
    "current_date=datetime.date.today()\n",
    "current_month=current_date.month\n",
    "month_name=calendar.month_name[current_month]\n",
    "current_year=current_date.year\n",
    "print ('current month is:', month_name, ', current year is:', current_year)\n"
   ]
  },
  {
   "cell_type": "code",
   "execution_count": 6,
   "metadata": {
    "execution": {
     "iopub.execute_input": "2020-08-20T19:52:53.579277Z",
     "iopub.status.busy": "2020-08-20T19:52:53.578039Z",
     "iopub.status.idle": "2020-08-20T19:52:53.622773Z",
     "shell.execute_reply": "2020-08-20T19:52:53.621970Z"
    },
    "papermill": {
     "duration": 0.071996,
     "end_time": "2020-08-20T19:52:53.622905",
     "exception": false,
     "start_time": "2020-08-20T19:52:53.550909",
     "status": "completed"
    },
    "scrolled": true,
    "tags": []
   },
   "outputs": [
    {
     "data": {
      "text/html": [
       "<div>\n",
       "<style scoped>\n",
       "    .dataframe tbody tr th:only-of-type {\n",
       "        vertical-align: middle;\n",
       "    }\n",
       "\n",
       "    .dataframe tbody tr th {\n",
       "        vertical-align: top;\n",
       "    }\n",
       "\n",
       "    .dataframe thead th {\n",
       "        text-align: right;\n",
       "    }\n",
       "</style>\n",
       "<table border=\"1\" class=\"dataframe\">\n",
       "  <thead>\n",
       "    <tr style=\"text-align: right;\">\n",
       "      <th></th>\n",
       "      <th>Unnamed: 0</th>\n",
       "      <th>Name</th>\n",
       "      <th>Date</th>\n",
       "      <th>Quantity_prod_A</th>\n",
       "      <th>Quantity_prod_B</th>\n",
       "      <th>Quantity_prod_C</th>\n",
       "      <th>Total</th>\n",
       "    </tr>\n",
       "  </thead>\n",
       "  <tbody>\n",
       "    <tr>\n",
       "      <th>1</th>\n",
       "      <td>1</td>\n",
       "      <td>Filip</td>\n",
       "      <td>2020-08-16</td>\n",
       "      <td>9</td>\n",
       "      <td>1</td>\n",
       "      <td>4</td>\n",
       "      <td>14</td>\n",
       "    </tr>\n",
       "    <tr>\n",
       "      <th>5</th>\n",
       "      <td>5</td>\n",
       "      <td>Karolina</td>\n",
       "      <td>2020-08-28</td>\n",
       "      <td>3</td>\n",
       "      <td>8</td>\n",
       "      <td>7</td>\n",
       "      <td>18</td>\n",
       "    </tr>\n",
       "    <tr>\n",
       "      <th>12</th>\n",
       "      <td>12</td>\n",
       "      <td>Filip</td>\n",
       "      <td>2020-08-11</td>\n",
       "      <td>5</td>\n",
       "      <td>4</td>\n",
       "      <td>4</td>\n",
       "      <td>13</td>\n",
       "    </tr>\n",
       "    <tr>\n",
       "      <th>20</th>\n",
       "      <td>20</td>\n",
       "      <td>Adam</td>\n",
       "      <td>2020-08-28</td>\n",
       "      <td>2</td>\n",
       "      <td>1</td>\n",
       "      <td>8</td>\n",
       "      <td>11</td>\n",
       "    </tr>\n",
       "    <tr>\n",
       "      <th>25</th>\n",
       "      <td>25</td>\n",
       "      <td>Karolina</td>\n",
       "      <td>2020-08-10</td>\n",
       "      <td>4</td>\n",
       "      <td>6</td>\n",
       "      <td>9</td>\n",
       "      <td>19</td>\n",
       "    </tr>\n",
       "  </tbody>\n",
       "</table>\n",
       "</div>"
      ],
      "text/plain": [
       "    Unnamed: 0      Name       Date  Quantity_prod_A  Quantity_prod_B  \\\n",
       "1            1     Filip 2020-08-16                9                1   \n",
       "5            5  Karolina 2020-08-28                3                8   \n",
       "12          12     Filip 2020-08-11                5                4   \n",
       "20          20      Adam 2020-08-28                2                1   \n",
       "25          25  Karolina 2020-08-10                4                6   \n",
       "\n",
       "    Quantity_prod_C  Total  \n",
       "1                 4     14  \n",
       "5                 7     18  \n",
       "12                4     13  \n",
       "20                8     11  \n",
       "25                9     19  "
      ]
     },
     "execution_count": 6,
     "metadata": {},
     "output_type": "execute_result"
    }
   ],
   "source": [
    "# selecting data for the current month \n",
    "df_current=df[pd.to_datetime(df['Date']).dt.month == current_month]\n",
    "df_current.head()"
   ]
  },
  {
   "cell_type": "code",
   "execution_count": 7,
   "metadata": {
    "execution": {
     "iopub.execute_input": "2020-08-20T19:52:53.674560Z",
     "iopub.status.busy": "2020-08-20T19:52:53.673692Z",
     "iopub.status.idle": "2020-08-20T19:52:53.797165Z",
     "shell.execute_reply": "2020-08-20T19:52:53.796304Z"
    },
    "papermill": {
     "duration": 0.159459,
     "end_time": "2020-08-20T19:52:53.797302",
     "exception": false,
     "start_time": "2020-08-20T19:52:53.637843",
     "status": "completed"
    },
    "scrolled": true,
    "tags": []
   },
   "outputs": [
    {
     "data": {
      "text/html": [
       "<div>\n",
       "<style scoped>\n",
       "    .dataframe tbody tr th:only-of-type {\n",
       "        vertical-align: middle;\n",
       "    }\n",
       "\n",
       "    .dataframe tbody tr th {\n",
       "        vertical-align: top;\n",
       "    }\n",
       "\n",
       "    .dataframe thead th {\n",
       "        text-align: right;\n",
       "    }\n",
       "</style>\n",
       "<table border=\"1\" class=\"dataframe\">\n",
       "  <thead>\n",
       "    <tr style=\"text-align: right;\">\n",
       "      <th></th>\n",
       "      <th>Quantity_prod_A</th>\n",
       "      <th>Quantity_prod_B</th>\n",
       "      <th>Quantity_prod_C</th>\n",
       "      <th>Total</th>\n",
       "    </tr>\n",
       "  </thead>\n",
       "  <tbody>\n",
       "    <tr>\n",
       "      <th>count</th>\n",
       "      <td>332.000000</td>\n",
       "      <td>332.000000</td>\n",
       "      <td>332.000000</td>\n",
       "      <td>332.00000</td>\n",
       "    </tr>\n",
       "    <tr>\n",
       "      <th>mean</th>\n",
       "      <td>5.548193</td>\n",
       "      <td>5.737952</td>\n",
       "      <td>5.183735</td>\n",
       "      <td>16.46988</td>\n",
       "    </tr>\n",
       "    <tr>\n",
       "      <th>std</th>\n",
       "      <td>2.882507</td>\n",
       "      <td>2.795228</td>\n",
       "      <td>2.883326</td>\n",
       "      <td>5.15989</td>\n",
       "    </tr>\n",
       "    <tr>\n",
       "      <th>min</th>\n",
       "      <td>1.000000</td>\n",
       "      <td>1.000000</td>\n",
       "      <td>1.000000</td>\n",
       "      <td>4.00000</td>\n",
       "    </tr>\n",
       "    <tr>\n",
       "      <th>25%</th>\n",
       "      <td>3.000000</td>\n",
       "      <td>3.750000</td>\n",
       "      <td>3.000000</td>\n",
       "      <td>13.00000</td>\n",
       "    </tr>\n",
       "    <tr>\n",
       "      <th>50%</th>\n",
       "      <td>6.000000</td>\n",
       "      <td>6.000000</td>\n",
       "      <td>5.000000</td>\n",
       "      <td>17.00000</td>\n",
       "    </tr>\n",
       "    <tr>\n",
       "      <th>75%</th>\n",
       "      <td>8.000000</td>\n",
       "      <td>8.000000</td>\n",
       "      <td>8.000000</td>\n",
       "      <td>20.00000</td>\n",
       "    </tr>\n",
       "    <tr>\n",
       "      <th>max</th>\n",
       "      <td>10.000000</td>\n",
       "      <td>10.000000</td>\n",
       "      <td>10.000000</td>\n",
       "      <td>29.00000</td>\n",
       "    </tr>\n",
       "  </tbody>\n",
       "</table>\n",
       "</div>"
      ],
      "text/plain": [
       "       Quantity_prod_A  Quantity_prod_B  Quantity_prod_C      Total\n",
       "count       332.000000       332.000000       332.000000  332.00000\n",
       "mean          5.548193         5.737952         5.183735   16.46988\n",
       "std           2.882507         2.795228         2.883326    5.15989\n",
       "min           1.000000         1.000000         1.000000    4.00000\n",
       "25%           3.000000         3.750000         3.000000   13.00000\n",
       "50%           6.000000         6.000000         5.000000   17.00000\n",
       "75%           8.000000         8.000000         8.000000   20.00000\n",
       "max          10.000000        10.000000        10.000000   29.00000"
      ]
     },
     "execution_count": 7,
     "metadata": {},
     "output_type": "execute_result"
    }
   ],
   "source": [
    "# quick statistical analysis\n",
    "statistic=df_current.describe().iloc[:,1:]\n",
    "# results are saved in the excel file. There will be a file with a proper month name \n",
    "statistic.to_excel('/home/kinga/python/Papermill-report/monthly_reports/'+month_name+'-statistic.xlsx')\n",
    "statistic"
   ]
  },
  {
   "cell_type": "code",
   "execution_count": 8,
   "metadata": {
    "execution": {
     "iopub.execute_input": "2020-08-20T19:52:53.855327Z",
     "iopub.status.busy": "2020-08-20T19:52:53.854471Z",
     "iopub.status.idle": "2020-08-20T19:52:53.916354Z",
     "shell.execute_reply": "2020-08-20T19:52:53.917134Z"
    },
    "papermill": {
     "duration": 0.101989,
     "end_time": "2020-08-20T19:52:53.917314",
     "exception": false,
     "start_time": "2020-08-20T19:52:53.815325",
     "status": "completed"
    },
    "tags": []
   },
   "outputs": [
    {
     "data": {
      "text/html": [
       "<div>\n",
       "<style scoped>\n",
       "    .dataframe tbody tr th:only-of-type {\n",
       "        vertical-align: middle;\n",
       "    }\n",
       "\n",
       "    .dataframe tbody tr th {\n",
       "        vertical-align: top;\n",
       "    }\n",
       "\n",
       "    .dataframe thead th {\n",
       "        text-align: right;\n",
       "    }\n",
       "</style>\n",
       "<table border=\"1\" class=\"dataframe\">\n",
       "  <thead>\n",
       "    <tr style=\"text-align: right;\">\n",
       "      <th></th>\n",
       "      <th>Name</th>\n",
       "      <th>Quantity_prod_A</th>\n",
       "      <th>Quantity_prod_B</th>\n",
       "      <th>Quantity_prod_C</th>\n",
       "      <th>Total</th>\n",
       "    </tr>\n",
       "  </thead>\n",
       "  <tbody>\n",
       "    <tr>\n",
       "      <th>0</th>\n",
       "      <td>Adam</td>\n",
       "      <td>361</td>\n",
       "      <td>349</td>\n",
       "      <td>337</td>\n",
       "      <td>1047</td>\n",
       "    </tr>\n",
       "    <tr>\n",
       "      <th>1</th>\n",
       "      <td>Filip</td>\n",
       "      <td>475</td>\n",
       "      <td>496</td>\n",
       "      <td>458</td>\n",
       "      <td>1429</td>\n",
       "    </tr>\n",
       "    <tr>\n",
       "      <th>2</th>\n",
       "      <td>Karolina</td>\n",
       "      <td>272</td>\n",
       "      <td>313</td>\n",
       "      <td>251</td>\n",
       "      <td>836</td>\n",
       "    </tr>\n",
       "    <tr>\n",
       "      <th>3</th>\n",
       "      <td>Katarzyna</td>\n",
       "      <td>391</td>\n",
       "      <td>405</td>\n",
       "      <td>357</td>\n",
       "      <td>1153</td>\n",
       "    </tr>\n",
       "    <tr>\n",
       "      <th>4</th>\n",
       "      <td>Robert</td>\n",
       "      <td>343</td>\n",
       "      <td>342</td>\n",
       "      <td>318</td>\n",
       "      <td>1003</td>\n",
       "    </tr>\n",
       "    <tr>\n",
       "      <th>5</th>\n",
       "      <td>All</td>\n",
       "      <td>1842</td>\n",
       "      <td>1905</td>\n",
       "      <td>1721</td>\n",
       "      <td>5468</td>\n",
       "    </tr>\n",
       "  </tbody>\n",
       "</table>\n",
       "</div>"
      ],
      "text/plain": [
       "        Name  Quantity_prod_A  Quantity_prod_B  Quantity_prod_C  Total\n",
       "0       Adam              361              349              337   1047\n",
       "1      Filip              475              496              458   1429\n",
       "2   Karolina              272              313              251    836\n",
       "3  Katarzyna              391              405              357   1153\n",
       "4     Robert              343              342              318   1003\n",
       "5        All             1842             1905             1721   5468"
      ]
     },
     "execution_count": 8,
     "metadata": {},
     "output_type": "execute_result"
    }
   ],
   "source": [
    "# sales by Representative in the current month \n",
    "sales_by_rep=pd.pivot_table(df_current, index='Name', values=[\"Quantity_prod_A\", \"Quantity_prod_B\", \"Quantity_prod_C\",\n",
    "                            \"Total\"], aggfunc=np.sum, margins=True)\n",
    "sales_by_rep=pd.DataFrame(sales_by_rep.to_records())\n",
    "# results are saved in the excel file. There will be a file with a proper month name \n",
    "sales_by_rep.to_excel('/home/kinga/python/Papermill-report/monthly_reports/'+month_name+'-sales-by-rep.xlsx')\n",
    "sales_by_rep"
   ]
  },
  {
   "cell_type": "code",
   "execution_count": 9,
   "metadata": {
    "execution": {
     "iopub.execute_input": "2020-08-20T19:52:53.971463Z",
     "iopub.status.busy": "2020-08-20T19:52:53.970392Z",
     "iopub.status.idle": "2020-08-20T19:52:56.122024Z",
     "shell.execute_reply": "2020-08-20T19:52:56.122840Z"
    },
    "papermill": {
     "duration": 2.186503,
     "end_time": "2020-08-20T19:52:56.123031",
     "exception": false,
     "start_time": "2020-08-20T19:52:53.936528",
     "status": "completed"
    },
    "tags": []
   },
   "outputs": [
    {
     "data": {
      "text/plain": [
       "'Sales_by_rep_August.html'"
      ]
     },
     "execution_count": 9,
     "metadata": {},
     "output_type": "execute_result"
    }
   ],
   "source": [
    "# Sales by Representative on the bar chart. Results are save as html file\n",
    "data=[]\n",
    "\n",
    "products=sales_by_rep.columns[1:4] \n",
    "\n",
    "for prod in products:\n",
    "    trace=go.Bar(x=sales_by_rep['Name'].iloc[:-1], y=sales_by_rep[prod],text=sales_by_rep[prod],\n",
    "                 textposition='auto',orientation='v', name=prod)\n",
    "    data.append(trace)\n",
    "    \n",
    "layout=go.Layout(title='Sales by Representative in '+month_name, barmode='group', hovermode='closest',\n",
    "                 bargroupgap=0.1,xaxis={'title': 'Representative' }, yaxis={'title': 'Sales' })\n",
    "\n",
    "\n",
    "\n",
    "fig=go.Figure(data=data, layout=layout)\n",
    "#There will be a file with a proper month name\n",
    "pyo.plot(fig, filename='Sales_by_rep_'+month_name+'.html')"
   ]
  },
  {
   "cell_type": "code",
   "execution_count": null,
   "metadata": {
    "papermill": {
     "duration": 0.052196,
     "end_time": "2020-08-20T19:52:56.226274",
     "exception": false,
     "start_time": "2020-08-20T19:52:56.174078",
     "status": "completed"
    },
    "tags": []
   },
   "outputs": [],
   "source": []
  },
  {
   "cell_type": "code",
   "execution_count": null,
   "metadata": {
    "papermill": {
     "duration": 0.050524,
     "end_time": "2020-08-20T19:52:56.337398",
     "exception": false,
     "start_time": "2020-08-20T19:52:56.286874",
     "status": "completed"
    },
    "tags": []
   },
   "outputs": [],
   "source": []
  },
  {
   "cell_type": "code",
   "execution_count": null,
   "metadata": {
    "papermill": {
     "duration": 0.030111,
     "end_time": "2020-08-20T19:52:56.401074",
     "exception": false,
     "start_time": "2020-08-20T19:52:56.370963",
     "status": "completed"
    },
    "tags": []
   },
   "outputs": [],
   "source": []
  },
  {
   "cell_type": "code",
   "execution_count": null,
   "metadata": {
    "papermill": {
     "duration": 0.025239,
     "end_time": "2020-08-20T19:52:56.454396",
     "exception": false,
     "start_time": "2020-08-20T19:52:56.429157",
     "status": "completed"
    },
    "tags": []
   },
   "outputs": [],
   "source": []
  },
  {
   "cell_type": "code",
   "execution_count": null,
   "metadata": {
    "papermill": {
     "duration": 0.022926,
     "end_time": "2020-08-20T19:52:56.505369",
     "exception": false,
     "start_time": "2020-08-20T19:52:56.482443",
     "status": "completed"
    },
    "tags": []
   },
   "outputs": [],
   "source": []
  },
  {
   "cell_type": "code",
   "execution_count": null,
   "metadata": {
    "papermill": {
     "duration": 0.027614,
     "end_time": "2020-08-20T19:52:56.569070",
     "exception": false,
     "start_time": "2020-08-20T19:52:56.541456",
     "status": "completed"
    },
    "tags": []
   },
   "outputs": [],
   "source": []
  },
  {
   "cell_type": "code",
   "execution_count": null,
   "metadata": {
    "papermill": {
     "duration": 0.028863,
     "end_time": "2020-08-20T19:52:56.623119",
     "exception": false,
     "start_time": "2020-08-20T19:52:56.594256",
     "status": "completed"
    },
    "tags": []
   },
   "outputs": [],
   "source": []
  }
 ],
 "metadata": {
  "celltoolbar": "Tags",
  "kernelspec": {
   "display_name": "Python 3",
   "language": "python",
   "name": "python3"
  },
  "language_info": {
   "codemirror_mode": {
    "name": "ipython",
    "version": 3
   },
   "file_extension": ".py",
   "mimetype": "text/x-python",
   "name": "python",
   "nbconvert_exporter": "python",
   "pygments_lexer": "ipython3",
   "version": "3.7.4"
  },
  "papermill": {
   "duration": 7.452167,
   "end_time": "2020-08-20T19:52:56.775838",
   "environment_variables": {},
   "exception": null,
   "input_path": "/home/kinga/python/Papermill-report/Template-Report.ipynb",
   "output_path": "Report_Data_August.ipynb",
   "parameters": {
    "filename": "Data_August.xlsx"
   },
   "start_time": "2020-08-20T19:52:49.323671",
   "version": "2.1.1"
  }
 },
 "nbformat": 4,
 "nbformat_minor": 4
}
